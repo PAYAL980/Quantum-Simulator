{
 "cells": [
  {
   "cell_type": "markdown",
   "id": "8993a172",
   "metadata": {
    "ExecuteTime": {
     "end_time": "2022-11-28T01:58:49.410732Z",
     "start_time": "2022-11-28T01:58:48.181375Z"
    }
   },
   "source": [
    "# Quantum Simulator"
   ]
  },
  {
   "cell_type": "code",
   "execution_count": 1,
   "id": "c4c592de",
   "metadata": {
    "ExecuteTime": {
     "end_time": "2022-12-18T01:37:24.685700Z",
     "start_time": "2022-12-18T01:37:22.313315Z"
    }
   },
   "outputs": [],
   "source": [
    "# Importing libraries\n",
    "\n",
    "import numpy as np\n",
    "from matplotlib import pyplot as plt"
   ]
  },
  {
   "cell_type": "code",
   "execution_count": 2,
   "id": "0b982d52",
   "metadata": {
    "ExecuteTime": {
     "end_time": "2022-12-18T01:37:25.528169Z",
     "start_time": "2022-12-18T01:37:25.520929Z"
    }
   },
   "outputs": [],
   "source": [
    "\"\"\" Number of qubits to parametrize the circuit\"\"\"\n",
    "\n",
    "num_qubits = 16"
   ]
  },
  {
   "cell_type": "code",
   "execution_count": 3,
   "id": "9cc7eb2e",
   "metadata": {
    "ExecuteTime": {
     "end_time": "2022-12-18T01:37:26.217767Z",
     "start_time": "2022-12-18T01:37:26.206750Z"
    }
   },
   "outputs": [],
   "source": [
    "\"\"\" Function to print the solution in understandable form (Dirac notation) \"\"\"\n",
    "\n",
    "def solution(res_state):\n",
    "    sol = ''\n",
    "    for iz in range(len(res_state)):\n",
    "        if np.round(res_state[iz],3)!=0:\n",
    "            sol += str(np.round(res_state[iz],3))+'|'+bin(iz)[2:].zfill(num_qubits)+'> + '\n",
    "\n",
    "    k = len(sol)\n",
    "    sol = sol[:k-2]\n",
    "    print(sol)"
   ]
  },
  {
   "cell_type": "code",
   "execution_count": 4,
   "id": "1c71a36d",
   "metadata": {
    "ExecuteTime": {
     "end_time": "2022-12-18T01:37:26.906414Z",
     "start_time": "2022-12-18T01:37:26.881369Z"
    }
   },
   "outputs": [],
   "source": [
    "\"\"\" Defining the gates used in the QASM programs\"\"\"\n",
    "\n",
    "# T gate\n",
    "def T_gate(init_state, n):\n",
    "    res_state = [0]*(2**num_qubits)\n",
    "    for iz in range(len(init_state)):\n",
    "        if init_state[iz] !=0:\n",
    "            a = bin(iz)[2:].zfill(num_qubits)\n",
    "            if a[n]=='1':\n",
    "                res_state[iz] = np.exp(1.0j*np.pi/4)*init_state[iz]\n",
    "            else:\n",
    "                res_state[iz] = init_state[iz]\n",
    "    \n",
    "    #print('After applying T gate on q[',n,']')\n",
    "    #solution(res_state=res_state)\n",
    "    return res_state\n",
    "\n",
    "# T dagger gate\n",
    "def Tdg_gate(init_state, n):\n",
    "    res_state = [0]*(2**num_qubits)\n",
    "    for iz in range(len(init_state)):\n",
    "        if init_state[iz] !=0:\n",
    "            a = bin(iz)[2:].zfill(num_qubits)\n",
    "            if a[n]=='1':\n",
    "                res_state[iz] = np.exp(-1.0j*np.pi/4)*init_state[iz]\n",
    "            else:\n",
    "                res_state[iz] = init_state[iz]\n",
    "    \n",
    "    #print('After applying Tdg gate on q[',n,']')\n",
    "    #solution(res_state=res_state)\n",
    "    return res_state\n",
    "\n",
    "# Hadamard Gate\n",
    "def H_gate(init_state, n):\n",
    "    res_state = [0]*(2**num_qubits)\n",
    "    for iz in range(len(init_state)):\n",
    "        if init_state[iz] !=0:\n",
    "            a = bin(iz)[2:].zfill(num_qubits)\n",
    "            \n",
    "            if a[n] == '1':\n",
    "                p1 = -1/np.sqrt(2)\n",
    "                b = a[:n] + '0' + a[n+1:]\n",
    "            else: \n",
    "                p1 = 1/np.sqrt(2)\n",
    "                b = a[:n] + '1' + a[n+1:]\n",
    "            \n",
    "            p2 = 1/np.sqrt(2)\n",
    "            res_state[iz] += p1*init_state[iz]\n",
    "            b_int = int(b, 2)\n",
    "            res_state[b_int] += p2*init_state[iz]\n",
    "\n",
    "    #print('After applying H gate on q[',n,']')\n",
    "    #solution(res_state=res_state)\n",
    "    return res_state\n",
    "\n",
    "# X gate            \n",
    "def X_gate(init_state, n):\n",
    "    res_state = [0]*(2**num_qubits)\n",
    "    for iz in range(len(init_state)):\n",
    "        if init_state[iz] !=0:\n",
    "            a = bin(iz)[2:].zfill(num_qubits)\n",
    "\n",
    "            if a[n] == '0':\n",
    "                b = a[:n] + '1' + a[n+1:]\n",
    "            else:\n",
    "                b = a[:n] + '0' + a[n+1:]\n",
    "        \n",
    "            b_int = int(b, 2)\n",
    "            res_state[b_int] = init_state[iz]\n",
    "    \n",
    "    #print('After applying X gate on q[',n,']')\n",
    "    #solution(res_state=res_state)\n",
    "    return res_state\n",
    "\n",
    "# CNOT gate\n",
    "def CX_gate(init_state, control, target):\n",
    "    res_state = [0]*(2**num_qubits)\n",
    "    for iz in range(len(init_state)):\n",
    "        if init_state[iz] != 0:\n",
    "            a = bin(iz)[2:].zfill(num_qubits)\n",
    "\n",
    "            if a[control] == '1':\n",
    "                if a[target] == '0':\n",
    "                    b = a[:target] + '1' + a[target+1:]\n",
    "                else:\n",
    "                    b = a[:target] + '0' + a[target+1:]\n",
    "        \n",
    "                b_int = int(b, 2)\n",
    "                res_state[b_int] = init_state[iz]\n",
    "            \n",
    "            else:\n",
    "                res_state[iz] = init_state[iz]              \n",
    "    \n",
    "    #print('After applying CX gate on q[',control,'], q[',target,']')\n",
    "    #solution(res_state=res_state)\n",
    "    return res_state"
   ]
  },
  {
   "cell_type": "code",
   "execution_count": 5,
   "id": "a2f45286",
   "metadata": {
    "ExecuteTime": {
     "end_time": "2022-12-18T01:37:29.418644Z",
     "start_time": "2022-12-18T01:37:29.402887Z"
    }
   },
   "outputs": [],
   "source": [
    "\"\"\" Quantum simulator Function \"\"\"\n",
    "\n",
    "def quantum_simulator(file, init_state):\n",
    "\n",
    "    initial_state = init_state\n",
    "\n",
    "    file1 = open(file, 'r')\n",
    "    lines = file1.readlines()\n",
    "\n",
    "    for line in lines:\n",
    "        l1 = line.strip()\n",
    "        op, q_n = l1.split(' ')\n",
    "        \n",
    "        if op == 'h' or op=='t' or op=='tdg' or op=='x':\n",
    "        \n",
    "            if len(q_n) == 5:\n",
    "                n = int(q_n[2])\n",
    "            else:\n",
    "                n = int(q_n[2:4])\n",
    "            #print(op, n)\n",
    "    \n",
    "        if op == 'cx':\n",
    "            m=0\n",
    "            q_n1, q_m1 = q_n.split(',')\n",
    "            \n",
    "            if len(q_n1) == 4:\n",
    "                n = int(q_n1[2])\n",
    "            else:\n",
    "                n = int(q_n1[2:4])\n",
    "            \n",
    "            if len(q_m1) == 5:\n",
    "                m = int(q_m1[2])\n",
    "            else:\n",
    "                m = int(q_m1[2:4])\n",
    "            #print(op, n,m)\n",
    "\n",
    "        \n",
    "        if op == 'cx':\n",
    "            initial_state = CX_gate(initial_state, n, m)\n",
    "        elif op == 'x':\n",
    "            initial_state = X_gate(initial_state, n)\n",
    "        elif op == 'h':\n",
    "            initial_state = H_gate(initial_state, n)\n",
    "        elif op == 't':\n",
    "            initial_state = T_gate(initial_state, n)\n",
    "        elif op == 'tdg':\n",
    "            initial_state = Tdg_gate(initial_state, n)\n",
    "\n",
    "    final_state = initial_state\n",
    "    solution(final_state)"
   ]
  },
  {
   "cell_type": "markdown",
   "id": "7c5ffacb",
   "metadata": {},
   "source": [
    "### Testing the simulator"
   ]
  },
  {
   "cell_type": "code",
   "execution_count": null,
   "id": "9c9d813f",
   "metadata": {},
   "outputs": [],
   "source": [
    "# Simulating file 1\n",
    "\n",
    "init_state1 = # specify initial state\n",
    "\n",
    "file1 = # file name\n",
    "\n",
    "quantum_simulator(file = file1, init_state=init_state1)"
   ]
  }
 ],
 "metadata": {
  "kernelspec": {
   "display_name": "Python 3 (ipykernel)",
   "language": "python",
   "name": "python3"
  },
  "language_info": {
   "codemirror_mode": {
    "name": "ipython",
    "version": 3
   },
   "file_extension": ".py",
   "mimetype": "text/x-python",
   "name": "python",
   "nbconvert_exporter": "python",
   "pygments_lexer": "ipython3",
   "version": "3.9.13"
  }
 },
 "nbformat": 4,
 "nbformat_minor": 5
}
